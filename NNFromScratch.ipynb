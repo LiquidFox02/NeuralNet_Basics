{
 "cells": [
  {
   "cell_type": "markdown",
   "metadata": {},
   "source": [
    "DESIGNING A NEURAL NETWORK FROM SCRATCH\n"
   ]
  },
  {
   "cell_type": "code",
   "execution_count": 1,
   "metadata": {},
   "outputs": [],
   "source": [
    "import sys\n",
    "import numpy as np\n",
    "import matplotlib.pyplot as plt"
   ]
  },
  {
   "cell_type": "markdown",
   "metadata": {},
   "source": [
    "Modelling a single perceptron without any activation function"
   ]
  },
  {
   "cell_type": "code",
   "execution_count": 2,
   "metadata": {},
   "outputs": [],
   "source": [
    "input = [2.4 , 4.5 ,7.8 ]\n",
    "weights = [9.8 , 7.1 , 3.1]\n",
    "bias = 4"
   ]
  },
  {
   "cell_type": "code",
   "execution_count": 3,
   "metadata": {},
   "outputs": [
    {
     "name": "stdout",
     "output_type": "stream",
     "text": [
      "83.65\n"
     ]
    }
   ],
   "source": [
    "output = input[0]*weights[0] + input[1]*weights[1] + input[2]*weights[2] + bias\n",
    "print(output)"
   ]
  },
  {
   "cell_type": "code",
   "execution_count": 4,
   "metadata": {},
   "outputs": [
    {
     "name": "stdout",
     "output_type": "stream",
     "text": [
      "84.65\n"
     ]
    }
   ],
   "source": [
    "input = [2.4 , 4.5 ,7.8 , 3.0]\n",
    "weights = [9.8 , 7.1 , 3.1 , 1.0]\n",
    "bias = 2\n",
    "output = input[0]*weights[0] + input[1]*weights[1] + input[2]*weights[2] + input[3]*weights[3] + bias\n",
    "print(output)"
   ]
  },
  {
   "cell_type": "markdown",
   "metadata": {},
   "source": [
    "Modelling a layer of 3 perceptrons/Neurons"
   ]
  },
  {
   "cell_type": "code",
   "execution_count": 5,
   "metadata": {},
   "outputs": [
    {
     "name": "stdout",
     "output_type": "stream",
     "text": [
      "[84.65, 58.896, 20.110000000000007]\n"
     ]
    }
   ],
   "source": [
    "inputs = [2.4 , 4.5 ,7.8 , 3.0]\n",
    "weights1 = [9.8 , 7.1 , 3.1 , 1.0]\n",
    "weights2 = [3.8 ,6.1 , 0.17 , 6.0]\n",
    "weights3 = [2.3 , -9.1 , 4.3 , 7.0]\n",
    "bias1 = 2.0\n",
    "bias2 = 3.0\n",
    "bias3 = 1.0\n",
    "output = [inputs[0]*weights1[0] + inputs[1]*weights1[1] + inputs[2]*weights1[2] + inputs[3]*weights1[3] + bias1,  \n",
    "        inputs[0]*weights2[0] + inputs[1]*weights2[1] + inputs[2]*weights2[2] + inputs[3]*weights2[3] + bias2,\n",
    "            inputs[0]*weights3[0] + inputs[1]*weights3[1] + inputs[2]*weights3[2] + inputs[3]*weights3[3] + bias3]\n",
    "print(output)"
   ]
  },
  {
   "cell_type": "code",
   "execution_count": 6,
   "metadata": {},
   "outputs": [
    {
     "name": "stdout",
     "output_type": "stream",
     "text": [
      "[[9.8, 7.1, 3.1, 1.0], [3.8, 6.1, 0.17, 6.0], [2.3, -9.1, 4.3, 7.0]]\n"
     ]
    }
   ],
   "source": [
    "weights = [weights1 , weights2 , weights3]\n",
    "biases = [bias1 , bias2, bias3]\n",
    "print(weights)"
   ]
  },
  {
   "cell_type": "markdown",
   "metadata": {},
   "source": [
    "Same thing but with a bit of flair"
   ]
  },
  {
   "cell_type": "code",
   "execution_count": 7,
   "metadata": {},
   "outputs": [
    {
     "name": "stdout",
     "output_type": "stream",
     "text": [
      "[84.65, 58.896, 20.110000000000007]\n"
     ]
    }
   ],
   "source": [
    "layer_outputs = []\n",
    "for neuron_weights , neuron_bias in zip(weights,biases):\n",
    "    neuron_output = 0\n",
    "    for n_input , weight in zip(inputs, neuron_weights):\n",
    "        neuron_output += n_input*weight\n",
    "    neuron_output += neuron_bias\n",
    "    layer_outputs.append(neuron_output)\n",
    "    \n",
    "print(layer_outputs)   "
   ]
  },
  {
   "cell_type": "markdown",
   "metadata": {},
   "source": [
    "Indroducing the dot product:\n",
    "inputs = [2.4 , 4.5 ,7.8 , 3.0]\n",
    "weightsd = [9.8 , 7.1 , 3.1 , 1.0]\n",
    "np.dot(inputs,weightsd)\n",
    "= 2.4*9.8 + 4.5*7.1 + 7.8*3.1 + 3.0*1.0"
   ]
  },
  {
   "cell_type": "code",
   "execution_count": 8,
   "metadata": {},
   "outputs": [
    {
     "name": "stdout",
     "output_type": "stream",
     "text": [
      "84.65\n",
      "84.65\n"
     ]
    }
   ],
   "source": [
    "#Single Neuron\n",
    "weightsd = [9.8 , 7.1 , 3.1 , 1.0]\n",
    "biasd = 2.0\n",
    "outputd = np.dot(inputs,weightsd) + bias\n",
    "print(outputd)\n",
    "#Since both input and weightsd are vectors the order of dot products doesn't matter\n",
    "outputd1 = np.dot(weightsd,inputs) + bias\n",
    "print(outputd1)"
   ]
  },
  {
   "cell_type": "code",
   "execution_count": 9,
   "metadata": {},
   "outputs": [
    {
     "name": "stdout",
     "output_type": "stream",
     "text": [
      "[84.65  58.896 20.11 ]\n"
     ]
    }
   ],
   "source": [
    "#layer of 3 neurons\n",
    "# input is a vector\n",
    "# weights is a matrix\n",
    "# here order matters , XW' + b , shapes matter in matrix multiplication\n",
    "output_lay = np.dot(inputs, np.array(weights).T) + biases\n",
    "print(output_lay)"
   ]
  },
  {
   "cell_type": "markdown",
   "metadata": {},
   "source": [
    "In matrix multiplication the only necessary requirement is the number of columns of the first matrix should be the same as the number of rows of the sencond matrix (mxn * nxp = mxp)\n",
    "Here the weights is a 3x4 matrix and inputs is a 1x4 so we do a transpose on the input vector x to make it 4x1. \n",
    "        In programming languages we have arrays and in numpy the shapes work a bit differently here the shape of the input vector is (4,)\n",
    "        and the shape of the weight matrix is (3,4). So if we do np.dot(inputs,weights) we    get:\n",
    "\n",
    "ValueError                                Traceback (most recent call last)\n",
    "<ipython-input-18-73e909785698> in <module>\n",
    "      3 # weights is a matrix\n",
    "      4 # here order matters , Wx+b\n",
    "----> 5 output_lay = np.dot(inputs, weights) + biases\n",
    "      6 print(output_lay)\n",
    "\n",
    "<__array_function__ internals> in dot(*args, **kwargs)\n",
    "\n",
    "ValueError: shapes (4,) and (3,4) not aligned: 4 (dim 0) != 3 (dim 0)\n"
   ]
  },
  {
   "cell_type": "markdown",
   "metadata": {},
   "source": [
    "Taking inputs a batches of vectors rather than a single vector.\n",
    "We use batches for parallel computing.\n",
    "Batches helps with generalization\n",
    "Batch size shouldn't be too large(the whole dataset) otherwise you may be overfitting"
   ]
  },
  {
   "cell_type": "code",
   "execution_count": 10,
   "metadata": {},
   "outputs": [
    {
     "name": "stdout",
     "output_type": "stream",
     "text": [
      "[84.65, 58.896, 20.110000000000007]\n"
     ]
    }
   ],
   "source": [
    "inpbatch = [[2.4 , 4.5 ,7.8 , 3.0],\n",
    "            [2.0,3.0,8.0,4.6],\n",
    "            [-1.4,3.3,4.1,0.17]]\n",
    "\n",
    "wtbatch = [[9.8 , 7.1 , 3.1 , 1.0],\n",
    "            [3.8 ,6.1 , 0.17 , 6.0], \n",
    "            [2.3 , -9.1 , 4.3 , 7.0]]\n",
    "\n",
    "biasbatch = [2.0 , 4.0, 8.9]\n",
    "#Matrix multiplication:\n",
    "output1 = np.dot(inpbatch,np.array(wtbatch).T) + biasbatch\n",
    "print(output)\n"
   ]
  },
  {
   "cell_type": "code",
   "execution_count": 11,
   "metadata": {},
   "outputs": [
    {
     "name": "stdout",
     "output_type": "stream",
     "text": [
      "[[ 754.9886    86.06506 -144.0124 ]\n",
      " [ 739.286     80.2336     3.236  ]\n",
      " [ 231.0377    26.01622  -93.9733 ]]\n"
     ]
    }
   ],
   "source": [
    "inpbatch = [[2.4 , 4.5 ,7.8 , 3.0],\n",
    "            [2.0,3.0,8.0,4.6],\n",
    "            [-1.4,3.3,4.1,0.17]]\n",
    "\n",
    "wtbatch = [[9.8 , 7.1 , 3.1 , 1.0],\n",
    "            [3.8 ,6.1 , 0.17 , 6.0], \n",
    "            [2.3 , -9.1 , 4.3 , 7.0]]\n",
    "\n",
    "biasbatch = [2.0 , 4.0, 8.9]\n",
    "#2nd layer:\n",
    "inpbatch2 = [[84.65 , 59.896 ,28.01 ],\n",
    "            [72.3  , 58.86 , 52.8  ],\n",
    "            [24.59 , 20.527, -5.53 ]]\n",
    "\n",
    "wtbatch2 = [[2.8 , 8.1 , 1.1 ],\n",
    "            [0.8 ,0.16 , 0.17 ], \n",
    "            [-3.3 , 0.1 , 4.3 ]]\n",
    "\n",
    "biasbatch2 = [2.0 , 3.0, 0.9]\n",
    "output2 = np.dot(inpbatch2,np.array(wtbatch2).T) + biasbatch\n",
    "print(output2)\n"
   ]
  },
  {
   "cell_type": "markdown",
   "metadata": {},
   "source": [
    "Same thing but directly connecting both the layers\n"
   ]
  },
  {
   "cell_type": "code",
   "execution_count": 12,
   "metadata": {},
   "outputs": [
    {
     "name": "stdout",
     "output_type": "stream",
     "text": [
      "[ 738.1986    84.56206 -178.0824 ]\n"
     ]
    }
   ],
   "source": [
    "output2 = np.dot(output,np.array(wtbatch2).T) + biasbatch\n",
    "print(output2)"
   ]
  },
  {
   "cell_type": "markdown",
   "metadata": {},
   "source": [
    "Converting the  layers into object(intro to oop for neural nets):"
   ]
  },
  {
   "cell_type": "code",
   "execution_count": 13,
   "metadata": {},
   "outputs": [
    {
     "name": "stdout",
     "output_type": "stream",
     "text": [
      "[[-0.07522884  0.10841889  0.63738402 -0.23343567 -0.13988382 -0.0647327\n",
      "   0.09388682 -0.06928612]\n",
      " [-0.09469408  0.10360985  0.60768764 -0.21165807 -0.07045526 -0.02942071\n",
      "   0.06799201 -0.10892409]\n",
      " [-0.05052484  0.02863706  0.14868432 -0.13411489 -0.1856258  -0.08592239\n",
      "   0.04699786  0.01590464]]\n"
     ]
    }
   ],
   "source": [
    "# X is kindof the defacto representation of input set\n",
    "X = [[2.4 , 4.5 ,7.8 , 3.0],\n",
    "     [2.0,3.0,8.0,4.6],\n",
    "     [-1.4,3.3,4.1,0.17]]\n",
    "#We need to initialize weights and biases\n",
    "\n",
    "#Now  we can go ahead and model the layers(hidden)\n",
    "class Layer_Dense:\n",
    "    def __init__(self ,no_of_inputs,no_of_neurons):\n",
    "        #to avoid transposing everytime we initialize the shape of weights as:\n",
    "        self.weights = 0.10 * np.random.randn(no_of_inputs, no_of_neurons)\n",
    "        self.biases = np.zeros((1, no_of_neurons))\n",
    "    def forward(self, inputs):\n",
    "        self.output = np.dot(inputs, self.weights) + self.biases\n",
    "\n",
    "layer1 = Layer_Dense(4,8)\n",
    "layer2 = Layer_Dense(8,8)\n",
    "    \n",
    "layer1.forward(X)\n",
    "#print(layer1.output)\n",
    "layer2.forward(layer1.output)\n",
    "print(layer2.output)"
   ]
  },
  {
   "cell_type": "markdown",
   "metadata": {},
   "source": [
    "INDTRODUCING ACTIVATION FUNCTIONS:\n",
    "*each neurons (hidden & output layers) have this activation function and the XW'+b  is passed through this activation function.\n",
    "without using any special activation function like the way we are doing it uptil now\n",
    "we are actually using a linear activation function y = f(x) ; f(x) = mx +c; which is linear.\n",
    "Now the problem is with linear activation functions we can only fit linear function or if we try to input non-linear data we at best may approximate it as a linear function\n",
    "Example: Try to fit a sine function using y = mx + c.\n",
    "So we need to use a non-linear activation function.\n",
    "We need  2 or more hidden layers for solving non-linear problems"
   ]
  },
  {
   "cell_type": "code",
   "execution_count": 14,
   "metadata": {},
   "outputs": [
    {
     "name": "stdout",
     "output_type": "stream",
     "text": [
      "[1, 1, 1, 0, 1, 0, 1]\n"
     ]
    }
   ],
   "source": [
    "#Step Function:\n",
    "inpFunc = [1,2,4,0,3.1,-19,2.1]\n",
    "outStep = []\n",
    "for i in inpFunc:\n",
    "       if i > 0:\n",
    "           outStep.append(1)\n",
    "       elif i <= 0:\n",
    "            outStep.append(0)\n",
    "print(outStep)   \n"
   ]
  },
  {
   "cell_type": "code",
   "execution_count": 15,
   "metadata": {},
   "outputs": [
    {
     "name": "stdout",
     "output_type": "stream",
     "text": [
      "[0.7310585786300049, 0.8807970779778823, 0.9820137900379085, 0.5, 0.9568927450589139, 5.602796406145941e-09, 0.8909031788043871]\n"
     ]
    }
   ],
   "source": [
    "import math\n",
    "#Sigmoid Function:\n",
    "inpFunc = [1,2,4,0,3.1,-19,2.1]\n",
    "outSig = []\n",
    "for i in inpFunc:\n",
    "    sig = 1/(1 + np.exp(-i))\n",
    "    outSig.append(sig)\n",
    "    \n",
    "print(outSig)  \n"
   ]
  },
  {
   "cell_type": "code",
   "execution_count": 16,
   "metadata": {},
   "outputs": [
    {
     "name": "stdout",
     "output_type": "stream",
     "text": [
      "[]\n"
     ]
    }
   ],
   "source": [
    "#Rectified-Linear Function:\n",
    "inpFunc = [1,2,4,0,3.1,-19,2.1]\n",
    "outRect = []\n",
    "for i in inpFunc:\n",
    "    np.maximum(0,i)\n",
    "print(outRect) \n"
   ]
  },
  {
   "cell_type": "code",
   "execution_count": 17,
   "metadata": {},
   "outputs": [
    {
     "data": {
      "image/png": "[encoded data removed]",
      "text/plain": [
       "<Figure size 432x288 with 1 Axes>"
      ]
     },
     "metadata": {
      "needs_background": "light"
     },
     "output_type": "display_data"
    },
    {
     "name": "stdout",
     "output_type": "stream",
     "text": [
      "(300, 2)\n"
     ]
    }
   ],
   "source": [
    "#An interesting dataset generator\n",
    "#https://cs231n.github.io/neural-networks-case-study/\n",
    "def spiral_data(points, classes):\n",
    "    Xsp = np.zeros((points*classes, 2))\n",
    "    ysp = np.zeros(points*classes, dtype='uint8')\n",
    "    for class_number in range(classes):\n",
    "        ix = range(points*class_number, points*(class_number+1))\n",
    "        r = np.linspace(0.0, 1, points)  # radius\n",
    "        t = np.linspace(class_number*4, (class_number+1)*4, points) + np.random.randn(points)*0.2\n",
    "        Xsp[ix] = np.c_[r*np.sin(t*2.5), r*np.cos(t*2.5)]\n",
    "        ysp[ix] = class_number\n",
    "    return Xsp, ysp\n",
    "Xsp, ysp = spiral_data(100,3)\n",
    "\n",
    "plt.scatter(Xsp[:,0], Xsp[:,1], c = ysp, cmap = 'brg')\n",
    "plt.show()\n",
    "\n",
    "print(np.shape(Xsp))\n"
   ]
  },
  {
   "cell_type": "code",
   "execution_count": 18,
   "metadata": {},
   "outputs": [
    {
     "name": "stdout",
     "output_type": "stream",
     "text": [
      "[[ 0.          0.          0.         ...  0.          0.\n",
      "   0.        ]\n",
      " [ 0.00018505 -0.00049096 -0.00082357 ... -0.00100411  0.00099747\n",
      "  -0.00048299]\n",
      " [ 0.00345037 -0.00046581 -0.00112395 ... -0.00136377 -0.00135968\n",
      "  -0.00228521]\n",
      " ...\n",
      " [-0.01422694  0.04725253  0.07889063 ...  0.09619132 -0.09852563\n",
      "   0.04448655]\n",
      " [ 0.16679159 -0.01328223 -0.03920448 ... -0.04747457 -0.08694082\n",
      "  -0.1033241 ]\n",
      " [ 0.1362424   0.01097627  0.00372799 ...  0.00482622 -0.12115294\n",
      "  -0.06751738]]\n"
     ]
    }
   ],
   "source": [
    "class Layer_Dense:\n",
    "    def __init__(self ,no_of_inputs,no_of_neurons):\n",
    "        #to avoid transposing everytime we initialize the shape of weights as:\n",
    "        self.weights = 0.10 * np.random.randn(no_of_inputs, no_of_neurons)\n",
    "        self.biases = np.zeros((1, no_of_neurons))\n",
    "    def forward(self, inputs):\n",
    "        self.output = np.dot(inputs, self.weights) + self.biases\n",
    "\n",
    "class ReLU:\n",
    "    def forward(self, inputs):\n",
    "        self.output = np.maximum(0, inputs)\n",
    "        \n",
    "layer1r = Layer_Dense(2,30000)\n",
    "relu_activation = ReLU() \n",
    "layer2r = Layer_Dense(30000,4)\n",
    "relu_activation2 = ReLU() \n",
    "    \n",
    "layer1r.forward(Xsp)\n",
    "relu_activation.forward(layer1r.output)\n",
    "print(layer1r.output)\n",
    "layer2r.forward(relu_activation.output)\n"
   ]
  },
  {
   "cell_type": "code",
   "execution_count": 19,
   "metadata": {},
   "outputs": [
    {
     "name": "stdout",
     "output_type": "stream",
     "text": [
      "[[0.         0.         0.         ... 0.         0.         0.        ]\n",
      " [0.00018505 0.         0.         ... 0.         0.00099747 0.        ]\n",
      " [0.00345037 0.         0.         ... 0.         0.         0.        ]\n",
      " [0.00387199 0.         0.         ... 0.         0.00054463 0.        ]\n",
      " [0.00246969 0.         0.         ... 0.         0.00301064 0.        ]]\n"
     ]
    }
   ],
   "source": [
    "print(relu_activation.output[:5])"
   ]
  },
  {
   "cell_type": "code",
   "execution_count": 20,
   "metadata": {},
   "outputs": [
    {
     "name": "stdout",
     "output_type": "stream",
     "text": [
      "[[ 0.00000000e+00  0.00000000e+00  0.00000000e+00  0.00000000e+00]\n",
      " [-1.14106982e-02 -1.16045327e-02  1.10892666e-04 -5.29710175e-04]\n",
      " [-1.96546620e-02 -3.41316234e-02  3.62514251e-02 -7.51369040e-04]\n",
      " ...\n",
      " [ 5.11130908e-01 -1.61371532e+00 -2.17462519e+00  1.63026308e+00]\n",
      " [-7.08653673e-01 -1.74266853e+00  1.63038337e+00  3.63189574e-01]\n",
      " [-1.04433583e-01 -2.04588075e+00  7.94676496e-01  1.05260175e+00]]\n"
     ]
    }
   ],
   "source": [
    "print(layer2r.output)"
   ]
  },
  {
   "cell_type": "code",
   "execution_count": 21,
   "metadata": {},
   "outputs": [
    {
     "data": {
      "image/png": "[encoded data removed]",
      "text/plain": [
       "<Figure size 432x288 with 1 Axes>"
      ]
     },
     "metadata": {
      "needs_background": "light"
     },
     "output_type": "display_data"
    },
    {
     "name": "stdout",
     "output_type": "stream",
     "text": [
      "(3, 4)\n"
     ]
    }
   ],
   "source": [
    "\n",
    "relu_activation2.forward(layer2r.output)\n",
    "plt.scatter(Xsp[:,0], Xsp[:,1], c = ysp, cmap = 'brg')\n",
    "plt.scatter(relu_activation2.output , relu_activation2.output)\n",
    "plt.show()\n",
    "\n",
    "print(np.shape(X))"
   ]
  }
 ],
 "metadata": {
  "kernelspec": {
   "display_name": "Python 3",
   "language": "python",
   "name": "python3"
  },
  "language_info": {
   "codemirror_mode": {
    "name": "ipython",
    "version": 3
   },
   "file_extension": ".py",
   "mimetype": "text/x-python",
   "name": "python",
   "nbconvert_exporter": "python",
   "pygments_lexer": "ipython3",
   "version": "3.8.5"
  }
 },
 "nbformat": 4,
 "nbformat_minor": 4
}
