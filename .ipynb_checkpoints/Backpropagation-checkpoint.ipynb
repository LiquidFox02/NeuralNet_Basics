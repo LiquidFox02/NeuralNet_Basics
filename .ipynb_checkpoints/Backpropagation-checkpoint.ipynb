{
 "cells": [
  {
   "cell_type": "markdown",
   "metadata": {},
   "source": [
    "## PARTIAL DERIVATIVES:\n",
    "The **partial derivative** measures the impact of a single input(variable) has on a function's\n",
    "output.\n",
    "## Gradients:\n",
    "It is a vector of all the possible partial derivatives of a function.\n",
    "We use  derivatives of single variable fucntions and the gradients of multivariate functions\n",
    "to perform gradient descent.\n",
    "## Chain Rule:\n",
    "The derivatives of chained functions is the product of the partial derivatives of the\n",
    "subsequent  functions."
   ]
  },
  {
   "cell_type": "markdown",
   "metadata": {},
   "source": [
    "# **BACKPROPAGATION**:\n",
    "We use the chain rule to measure the impact of variables on function's output.\n",
    "\n",
    "**THE BIGGEST PROBLEM IN NEURAL NETWORKS IS TO MINIMIZE THE LOSS OF THE NETWORK**\n",
    "\n",
    "We'll start with the relu :\n",
    "ReLU($\\sum$(inputs*weights)+bias))\n",
    "\n",
    "ReLU(x0w0+x1w1+x2w2+b)\n",
    "\n",
    "y = ReLU(**sum**(**mul**(x0,w0),**mul**(x1,w1),**mul**(x2,w2),b))\n",
    "loss  = -log(smax(relu(sum(mul,b)))\n",
    "\n",
    "During the backward pass, we actually calculate the derivative of the loss function, \n",
    "and use it to multiply with the derivative of the activation function of the output layer\n",
    "then we use this result to multiply with the derivative of the output layer then we use this\n",
    "result to multiply with each of the derivative of the activation function of the previous layer and so on through all the hidden layers. \n",
    "Inside each layer the derivative with respect to the weights and biases form the gradients\n",
    "that we'll utilize to update the weights and biases.\n",
    "\n",
    "**The derivatives w.r.t to the inputs will form the gradients to chain with the previous layer.**\n",
    "\n"
   ]
  },
  {
   "cell_type": "code",
   "execution_count": 62,
   "metadata": {},
   "outputs": [],
   "source": [
    "#inputs:\n",
    "x = [1.0 , -2.0 , 3.0]\n",
    "#weights:\n",
    "w = [2.0 , -1.0 , 3.0]\n",
    "#bias:\n",
    "b = 1.0"
   ]
  },
  {
   "cell_type": "code",
   "execution_count": 77,
   "metadata": {},
   "outputs": [
    {
     "name": "stdout",
     "output_type": "stream",
     "text": [
      "13.987\n",
      "13.987\n"
     ]
    }
   ],
   "source": [
    "#forward pass:\n",
    "#weighted sum:\n",
    "z = x[0]*w[0] + x[1]*w[1] + x[2]*w[2] + b\n",
    "print(z)\n",
    "#RelU activation function:\n",
    "y = max(z,0)\n",
    "print(y)"
   ]
  },
  {
   "cell_type": "code",
   "execution_count": 64,
   "metadata": {},
   "outputs": [
    {
     "name": "stdout",
     "output_type": "stream",
     "text": [
      "1.0\n"
     ]
    }
   ],
   "source": [
    "#BACKWARD PASS:\n",
    "#The derivative from the next layer\n",
    "d_next = 1.0 #say\n",
    "#Derivative of relu + the chain rule:\n",
    "drelu = d_next * (1. if z > 0 else 0)\n",
    "print(drelu)\n",
    "\n",
    "dsum_dxw0 = 1\n",
    "drelu_dwx0 = drelu * dsum_dxw0\n",
    "\n",
    "dsum_dxw1 = 1\n",
    "drelu_dwx1 = drelu * dsum_dxw1\n",
    "\n",
    "dsum_dxw2 = 1\n",
    "drelu_dwx2 = drelu * dsum_dxw2\n",
    "\n",
    "dsum_dbias = 1\n",
    "drelu_bias = drelu * dsum_dbias \n",
    "\n",
    "#\n",
    "dmul_dx0 = w[0]\n",
    "drelu_dx0 = drelu_dwx0 * dmul_dx0\n",
    "\n",
    "dmul_dx1 = w[1]\n",
    "drelu_dx1 = drelu_dwx1 * dmul_dx1\n",
    "\n",
    "dmul_dx2 = w[2]\n",
    "drelu_dx2 = drelu_dwx2 * dmul_dx2\n",
    "\n",
    "dmul_dw0 = x[0]\n",
    "drelu_dw0 = drelu_dwx0 * dmul_dw0\n",
    "\n",
    "dmul_dw1 = x[1]\n",
    "drelu_dw1 = drelu_dwx1 * dmul_dw1\n",
    "\n",
    "dmul_dw2 = x[2]\n",
    "drelu_dw2 = drelu_dwx2 * dmul_dw2\n",
    "\n"
   ]
  },
  {
   "cell_type": "code",
   "execution_count": 65,
   "metadata": {},
   "outputs": [
    {
     "name": "stdout",
     "output_type": "stream",
     "text": [
      "Gradient on inputs [2.0, -1.0, 3.0]\n",
      "Gradient on weights [1.0, -1.0, 3.0]\n",
      "Gradient on  bias 1.0\n"
     ]
    }
   ],
   "source": [
    "dx = [drelu_dx0 , drelu_dx1 , drelu_dx2] #gradient on inputs\n",
    "dw = [drelu_dw0 , drelu_dw1 , drelu_dw2] #gradient on weights\n",
    "db = drelu_bias #gradient on biases\n",
    "\n",
    "print(\"Gradient on inputs\", dx)\n",
    "print(\"Gradient on weights\",dw)\n",
    "print(\"Gradient on  bias\",db)"
   ]
  },
  {
   "cell_type": "code",
   "execution_count": 66,
   "metadata": {},
   "outputs": [
    {
     "name": "stdout",
     "output_type": "stream",
     "text": [
      "[1.999, -0.999, 2.997] 0.999\n"
     ]
    }
   ],
   "source": [
    "#Applying a fraction of the gradients to the weights:\n",
    "w[0] += -0.001 * dw[0]\n",
    "w[1] += -0.001 * dw[1]\n",
    "w[2] += -0.001 * dw[2]\n",
    "b += -0.001 * db\n",
    "#we have updated the values of our weights and biases:\n",
    "print(w,b)"
   ]
  },
  {
   "cell_type": "code",
   "execution_count": 67,
   "metadata": {},
   "outputs": [
    {
     "name": "stdout",
     "output_type": "stream",
     "text": [
      "13.987\n",
      "13.987\n"
     ]
    }
   ],
   "source": [
    "z_updated = x[0]*w[0] + x[1]*w[1] + x[2]*w[2] + b\n",
    "print(z_updated)\n",
    "#RelU activation function:\n",
    "y_updated = max(z_updated,0)\n",
    "print(y_updated)"
   ]
  },
  {
   "cell_type": "markdown",
   "metadata": {},
   "source": [
    "#### NOTE:\n",
    "We have lowered the value of the relu activation of this neuron.\n",
    "But it doesn't make much sense to do so our main objective is to lower the **LOSS FUNCTION**\n",
    "over the whole network."
   ]
  },
  {
   "cell_type": "markdown",
   "metadata": {},
   "source": [
    "Doing the same for a layer of neuron:\n"
   ]
  },
  {
   "cell_type": "code",
   "execution_count": 68,
   "metadata": {},
   "outputs": [
    {
     "name": "stdout",
     "output_type": "stream",
     "text": [
      "(1, 3)\n",
      "(4, 3)\n",
      "[-0.26  1.33 -2.09  0.13]\n"
     ]
    }
   ],
   "source": [
    "import numpy as np\n",
    "\n",
    "dvalues = np.array([[1.0,1.0,1.0]])\n",
    "weights = np.array([[0.2, 0.8 , -0.9, -0.3],\n",
    "                    [0.3, 0.1 ,-0.97, 0.26],\n",
    "                    [-0.76 , 0.43 , -0.22 , 0.17]]).T\n",
    "print(dvalues.shape)\n",
    "print(weights.shape)\n",
    "dx0_new = sum(weights[0]*dvalues[0])\n",
    "dx1_new = sum(weights[1]*dvalues[0])\n",
    "dx2_new = sum(weights[2]*dvalues[0])\n",
    "dx3_new = sum(weights[3]*dvalues[0])\n",
    "\n",
    "dinputs = np.array([dx0_new , dx1_new , dx2_new , dx3_new])\n",
    "print(dinputs)"
   ]
  },
  {
   "cell_type": "code",
   "execution_count": 69,
   "metadata": {},
   "outputs": [
    {
     "name": "stdout",
     "output_type": "stream",
     "text": [
      "[-0.26  1.33 -2.09  0.13]\n"
     ]
    }
   ],
   "source": [
    "dinputs_usingdot = np.dot(dvalues[0],weights.T)\n",
    "print(dinputs_usingdot)"
   ]
  },
  {
   "cell_type": "code",
   "execution_count": 70,
   "metadata": {},
   "outputs": [
    {
     "name": "stdout",
     "output_type": "stream",
     "text": [
      "[[1.13  1.912 2.559]]\n",
      "[[-1.695    2.26168 -2.2885 ]\n",
      " [ 3.051    2.978    6.4753 ]\n",
      " [ 3.729    6.3      8.2587 ]\n",
      " [-0.904    8.212    0.9288 ]]\n",
      "[[ 0.0178   0.4296  -1.7175   0.5292 ]\n",
      " [ 0.0846   0.0282  -0.27354  0.07332]\n",
      " [-1.24764  1.73777 -1.44358 -0.00937]]\n"
     ]
    }
   ],
   "source": [
    "dvalues_forabatch = np.array([[1.0 , 1.0 ,1.0],\n",
    "                              [2.0, 2.0, 2.0],\n",
    "                              [3.0 , 3.0 ,3.0]])\n",
    "\n",
    "weights_batch  = np.array([[0.2, 0.8 , -0.9, -0.3],\n",
    "                            [0.3, 0.1 ,-0.97, 0.26],\n",
    "                            [-0.76 , 0.43 , -0.22 , 0.17]]).T\n",
    "\n",
    "input_batch = np.array([[1,2,3,4],\n",
    "                        [2.24,-1,5,6],\n",
    "                        [-1.5,2.7,3.3,-0.8]])\n",
    "\n",
    "biases_batch  = np.array([[2,3,0.5]])\n",
    "#forward:\n",
    "layer_outputs = np.dot(input_batch , weights_batch) + biases_batch\n",
    "relu_outputs = np.maximum(0,layer_outputs)\n",
    "#backpropagation:\n",
    "drelu = relu_outputs.copy()\n",
    "drelu[layer_outputs <= 0] = 0\n",
    "\n",
    "dinputs_batch = np.dot(drelu,weights.T)\n",
    "dweights_batch  = np.dot(input_batch.T,drelu)\n",
    "dbiases_batch = np.sum(drelu, axis=0, keepdims=True)\n",
    "\n",
    "#print(input_batch.T)\n",
    "print(dbiases_batch)\n",
    "print(dweights_batch)\n",
    "print(dinputs_batch)"
   ]
  },
  {
   "cell_type": "code",
   "execution_count": 71,
   "metadata": {},
   "outputs": [
    {
     "name": "stdout",
     "output_type": "stream",
     "text": [
      "weights: [[ 0.201695    0.29773832 -0.7577115 ]\n",
      " [ 0.796949    0.097022    0.4235247 ]\n",
      " [-0.903729   -0.9763     -0.2282587 ]\n",
      " [-0.299096    0.251788    0.1690712 ]]\n",
      "Biases: [[1.99887  2.998088 0.497441]]\n"
     ]
    }
   ],
   "source": [
    "weights_batch += -0.001 *dweights_batch\n",
    "biases_batch += -0.001 *dbiases_batch\n",
    "\n",
    "print(\"weights:\",weights_batch)\n",
    "print(\"Biases:\",biases_batch)"
   ]
  },
  {
   "cell_type": "markdown",
   "metadata": {},
   "source": [
    "## INCLUDING THE BACKWARD PASS IN OUR CLASSES:"
   ]
  },
  {
   "cell_type": "code",
   "execution_count": 72,
   "metadata": {},
   "outputs": [
    {
     "data": {
      "image/png": "[encoded data removed]",
      "text/plain": [
       "<Figure size 432x288 with 1 Axes>"
      ]
     },
     "metadata": {
      "needs_background": "light"
     },
     "output_type": "display_data"
    },
    {
     "name": "stdout",
     "output_type": "stream",
     "text": [
      "(300, 2)\n"
     ]
    }
   ],
   "source": [
    "import matplotlib.pyplot as plt\n",
    "def spiral_data(points, classes):\n",
    "    Xsp = np.zeros((points*classes, 2))\n",
    "    ysp = np.zeros(points*classes, dtype='uint8')\n",
    "    for class_number in range(classes):\n",
    "        ix = range(points*class_number, points*(class_number+1))\n",
    "        r = np.linspace(0.0, 1, points)  # radius\n",
    "        t = np.linspace(class_number*4, (class_number+1)*4, points) + np.random.randn(points)*0.2\n",
    "        Xsp[ix] = np.c_[r*np.sin(t*2.5), r*np.cos(t*2.5)]\n",
    "        ysp[ix] = class_number\n",
    "    return Xsp, ysp\n",
    "Xsp, ysp = spiral_data(100,3)\n",
    "Xsp = np.array(Xsp)\n",
    "plt.scatter(Xsp[:,0], Xsp[:,1], c = ysp, cmap = 'brg')\n",
    "plt.show()\n",
    "\n",
    "print(np.shape(Xsp))\n"
   ]
  },
  {
   "cell_type": "markdown",
   "metadata": {},
   "source": [
    "Softmax = smaxout * kronecker delta - smaxout*smaxout.T"
   ]
  },
  {
   "cell_type": "code",
   "execution_count": 73,
   "metadata": {},
   "outputs": [],
   "source": [
    "class layer():\n",
    "    def __init__(self, inputs, neurons):\n",
    "        self.weights = 0.01 * np.random.randn(inputs,neurons)\n",
    "        self.biases = np.zeros((1,neurons))\n",
    "    #FORWARD PASS:\n",
    "    def forward(self,inputs):\n",
    "        self.inputs = inputs\n",
    "        self.output = np.dot(inputs,self.weights)+self.biases\n",
    "    def backward(self,dvalues):\n",
    "        self.dweights = np.dot(self.inputs.T,dvalues)\n",
    "        self.dbiases = np.sum(dvalues,axis=0,keepdims=True)\n",
    "        self.dinputs = np.dot(dvalues,self.weights.T)\n",
    "        \n",
    "class relu():\n",
    "    def forward(self,inputs):\n",
    "        self.inputs = inputs\n",
    "        self.output = np.maximum(0,inputs)\n",
    "    def backward(self,dvalues):\n",
    "        self.dinputs = dvalues.copy()\n",
    "        self.dinputs[self.inputs <= 0] = 0\n",
    "        \n",
    "class softmax():\n",
    "    def forward(self, inputs):\n",
    "        self.inputs = inputs\n",
    "        ex_batch = np.exp(inputs -  np.max(inputs , axis = 1 , keepdims = True))\n",
    "        prob= ex_batch/np.sum(ex_batch , axis=1, keepdims = True)\n",
    "        self.output = prob\n",
    "        \n",
    "    def backward(self,dvalues):\n",
    "            self.dinputs = np.empty_like(dvalues)\n",
    "            for i ,(single_output, single_dvalues) in enumerate(zip(self.output,dvalues)):\n",
    "                single_output = single_output.reshape(-1,1)\n",
    "                jacobian_matrix = np.diagflat(single_output)-np.dot(single_output, \n",
    "                                                                    single_output.T)\n",
    "                self.dinputs[i] = np.dot(jacobian_matrix, single_dvalues)\n",
    "            \n",
    "class Loss:\n",
    "    def calculate(self, output, y):\n",
    "        sample_losses = self.forward(output , y)\n",
    "        #calculate mean loss\n",
    "        data_loss = np.mean(sample_losses)\n",
    "        return data_loss\n",
    "    \n",
    "class CategoricalCrossEntropy_Loss(Loss):\n",
    "    \n",
    "    def forward(self , y_pred , y_true):\n",
    "        samples = len(y_pred)\n",
    "        y_pred_clipped = np.clip(y_pred , 1e-8 , 1-1e-8)\n",
    "               \n",
    "        if len(y_true.shape) ==  1:\n",
    "            confi = y_pred_clipped[range(samples),y_true]\n",
    "        if len(y_true.shape) == 2:\n",
    "            confi =  np.sum(y_pred_clipped * y_true,axis = 1)\n",
    "        \n",
    "        loss = -np.log(confi)\n",
    "        return loss\n",
    "    def backward(self,dvalues,y_true):\n",
    "        samples = len(dvalues)\n",
    "        labels = len(dvalues[0])\n",
    "        if len(y_true.shape) == 1:\n",
    "            y_true = np.eye(labels)[y_true]\n",
    "        #print(y_true)\n",
    "        self.dinputs = -y_true/dvalues\n",
    "        self.dinputs = self.dinputs/samples\n"
   ]
  },
  {
   "cell_type": "code",
   "execution_count": 74,
   "metadata": {},
   "outputs": [
    {
     "name": "stdout",
     "output_type": "stream",
     "text": [
      "[1.09861229 1.09861281 1.09861292 1.09861318 1.09861895]\n",
      "acc: 0.3333333333333333\n",
      "[[ 2.43035135e-04  3.26269697e-05  1.33073853e-04]\n",
      " [-2.87975271e-04 -2.74211824e-04 -1.85840660e-04]]\n",
      "[[-4.98928824e-06 -2.80758200e-04  5.12312708e-04]]\n"
     ]
    }
   ],
   "source": [
    "layer1 = layer(2,3)\n",
    "activation1 = relu()\n",
    "layer2 = layer(3,3)\n",
    "smax = softmax()\n",
    "logd = CategoricalCrossEntropy_Loss()\n",
    "\n",
    "layer1.forward(Xsp)\n",
    "activation1.forward(layer1.output)\n",
    "\n",
    "layer2.forward(activation1.output)\n",
    "smax.forward(layer2.output)\n",
    "loss = logd.forward(smax.output , ysp)\n",
    "print(loss[:5])\n",
    "#print(loss)\n",
    "\n",
    "predictions = np.argmax(smax.output, axis = 1)\n",
    "if len(ysp.shape)==2:\n",
    "    ysp = np.argmax(ysp,axis=1)\n",
    "accuaracy = np.mean(predictions==ysp)\n",
    "print('acc:',accuaracy)\n",
    "\n",
    "#backward pass:\n",
    "\n",
    "logd.backward(smax.output,ysp)\n",
    "smax.backward(logd.dinputs)\n",
    "#loss_activation.backward(loss_activation.output,ysp)\n",
    "layer2.backward(smax.dinputs)\n",
    "activation1.backward(layer2.dinputs)\n",
    "layer1.backward(activation1.dinputs)\n",
    "\n",
    "print(layer1.dweights)\n",
    "print(layer1.dbiases)\n",
    "\n",
    "\n",
    "\n"
   ]
  },
  {
   "cell_type": "code",
   "execution_count": 75,
   "metadata": {},
   "outputs": [
    {
     "name": "stdout",
     "output_type": "stream",
     "text": [
      "[ 0.00111111  0.00111112 -0.00222223]\n"
     ]
    }
   ],
   "source": [
    "print(smax.dinputs[299])"
   ]
  },
  {
   "cell_type": "code",
   "execution_count": 76,
   "metadata": {},
   "outputs": [
    {
     "name": "stdout",
     "output_type": "stream",
     "text": [
      "[[-1.64976862e-06  1.40565130e-04 -1.38915361e-04]\n",
      " [ 6.89334699e-06 -1.14755043e-04  1.07861696e-04]\n",
      " [-2.38377225e-04  1.72839941e-04  6.55372841e-05]]\n",
      "[[-2.21841143e-05  1.79770967e-05  4.20701760e-06]]\n"
     ]
    }
   ],
   "source": [
    "print(layer2.dweights)\n",
    "print(layer2.dbiases)"
   ]
  }
 ],
 "metadata": {
  "kernelspec": {
   "display_name": "Python 3",
   "language": "python",
   "name": "python3"
  },
  "language_info": {
   "codemirror_mode": {
    "name": "ipython",
    "version": 3
   },
   "file_extension": ".py",
   "mimetype": "text/x-python",
   "name": "python",
   "nbconvert_exporter": "python",
   "pygments_lexer": "ipython3",
   "version": "3.8.5"
  }
 },
 "nbformat": 4,
 "nbformat_minor": 4
}
