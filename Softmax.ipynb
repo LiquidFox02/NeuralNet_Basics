{
 "cells": [
  {
   "cell_type": "markdown",
   "metadata": {},
   "source": [
    " Introducing the Softmax activation function:\n",
    " The model we are trying to build is a classifier, so we  want activation function meant for \n",
    " classification. One of these is the softmax activation function. First, why do we need\n",
    " another activation function? Well it depends on what our overall goals are. In this case the\n",
    " ReLU is unbounded, not normalized with other units and exclusive. Not normalized means  that\n",
    " the values can be anything , an output of [4.8 ,1,21 ,232] is without context. and exclusive\n",
    " means that each output is independent of the others. To address this lack of context,  the \n",
    " softmax activation  function on the output data can take in non-normalized or uncalibrated \n",
    " inputs and produce a normalized distribution of probabilities  for our classes. \n",
    " In the case of classification what we want to see is a prediction of which class the network\n",
    " \"thinks\" the input represents/ This distribution returned by the softmax activation function\n",
    " represesnts CONFIDENCE SCORES for each class and will add up to 1.\n",
    " The predicted class is associated with the output neuron that returned the largest\n",
    " confidence score.\n",
    " "
   ]
  },
  {
   "cell_type": "code",
   "execution_count": 2,
   "metadata": {},
   "outputs": [
    {
     "name": "stdout",
     "output_type": "stream",
     "text": [
      "[121.51041751873483, 3.353484652549023, 0.09208897957928121]\n"
     ]
    }
   ],
   "source": [
    "import math\n",
    "#values from a previous layer of neurons:\n",
    "layer_outputs = [ 4.8 ,1.21 , -2.385]\n",
    "#To implement the softmax function we need to first normalize the inputs to the function\n",
    "#We do this by first exponentiating the inputs:(to avoid getting negative values)\n",
    "#y  = e^x\n",
    "E = math.e\n",
    "exp_values = []\n",
    "for output in layer_outputs:\n",
    "    exp_values.append(E**output)\n",
    "print(exp_values)"
   ]
  },
  {
   "cell_type": "code",
   "execution_count": 3,
   "metadata": {},
   "outputs": [
    {
     "name": "stdout",
     "output_type": "stream",
     "text": [
      "[0.9724257028383028, 0.026837325858991908, 0.0007369713027052813]\n",
      "sum  of normalized exponentiated values: 1.0\n"
     ]
    }
   ],
   "source": [
    "#now we normalize:\n",
    "norm_den = sum(exp_values)\n",
    "norm_values = []\n",
    "for values in exp_values:\n",
    "    norm_values.append(values/norm_den)\n",
    "print(norm_values)\n",
    "print(\"sum  of normalized exponentiated values:\", sum(norm_values))"
   ]
  },
  {
   "cell_type": "markdown",
   "metadata": {},
   "source": [
    "Exponentiating and Normalizing Using Numpy\n",
    "It's faster to use numpy."
   ]
  },
  {
   "cell_type": "code",
   "execution_count": 4,
   "metadata": {},
   "outputs": [
    {
     "name": "stdout",
     "output_type": "stream",
     "text": [
      "The exponentiated values:\n",
      "[1.21510418e+02 3.35348465e+00 9.20889796e-02]\n",
      "The normalized values:\n",
      "[9.72425703e-01 2.68373259e-02 7.36971303e-04]\n",
      "124.95599115086317\n",
      "sum of the normalized values: 1.0\n"
     ]
    }
   ],
   "source": [
    "import numpy as np\n",
    "lay_outputs = [ 4.8 ,1.21 , -2.385]\n",
    "#For each value in the vector calculate the  exponential value\n",
    "exp_numvals = np.exp(lay_outputs)# np.exp exponentiates all the elements in a single call.\n",
    "print(\"The exponentiated values:\")\n",
    "print(exp_numvals)\n",
    "\n",
    "#now we normalize the exponentiated values\n",
    "norm_numvalues = exp_numvals/np.sum(exp_numvals)\n",
    "print(\"The normalized values:\")\n",
    "print(norm_numvalues)\n",
    "print(np.sum(exp_numvals))\n",
    "print(\"sum of the normalized values:\",np.sum(norm_numvalues))"
   ]
  },
  {
   "cell_type": "markdown",
   "metadata": {},
   "source": [
    "For batches:\n",
    "We need the sum of each row of the input matrix so we do the following:\n",
    "np.sum(inp , axis=1(sum of rows))\n",
    "but we also need the shapes to align so we use the keepdims parameter \n",
    "np.sum(inp , axis=1(sum of rows) , keepdims+True)"
   ]
  },
  {
   "cell_type": "code",
   "execution_count": 5,
   "metadata": {},
   "outputs": [
    {
     "name": "stdout",
     "output_type": "stream",
     "text": [
      "[[0.00430302 0.03513923 0.95271713 0.00784062]\n",
      " [0.00237749 0.0064627  0.95914984 0.03200997]\n",
      " [0.00277434 0.30503112 0.67885925 0.01333529]]\n",
      "[1. 1. 1.]\n",
      "[[17.7 ]\n",
      " [17.6 ]\n",
      " [ 6.17]]\n",
      "(4,)\n"
     ]
    }
   ],
   "source": [
    "inp_batch =np.array([[2.4 , 4.5 ,7.8 , 3.0],\n",
    "            [2.0,3.0,8.0,4.6],\n",
    "            [-1.4,3.3,4.1,0.17]])\n",
    "\n",
    "#inp_batch = inp_batch - np.max(inp_batch, axis = 1 , keepdims = True)\n",
    "exp_batch = np.exp(inp_batch - np.max(inp_batch , axis = 1 , keepdims = True))\n",
    "probabilities = exp_batch/np.sum(exp_batch , axis=1, keepdims = True)\n",
    "print(probabilities)\n",
    "print(np.sum(probabilities, axis  = 1))\n",
    "print(np.sum(inp_batch , axis=1 , keepdims=True))\n",
    "print(np.shape(inp_batch[1]))"
   ]
  },
  {
   "cell_type": "markdown",
   "metadata": {},
   "source": [
    "making the softmax object and using it in a network"
   ]
  },
  {
   "cell_type": "code",
   "execution_count": 6,
   "metadata": {},
   "outputs": [
    {
     "name": "stdout",
     "output_type": "stream",
     "text": [
      "[[ 0.          0.          8.43674033  2.04260323]\n",
      " [ 0.          0.70982091 11.1755353   0.16768026]\n",
      " [ 0.          0.          0.          5.32235417]]\n",
      "[[1.37427787e-13 9.99191862e-01 4.69792429e-17 1.97229970e-06\n",
      "  8.06019247e-04 4.98457199e-10 6.93678631e-08 1.31186588e-08\n",
      "  1.93157237e-15 6.31583452e-08]\n",
      " [5.39254987e-19 9.99961048e-01 9.39432626e-23 3.40901885e-10\n",
      "  3.89511669e-05 1.27941939e-13 2.53861895e-10 3.14784703e-12\n",
      "  6.58060363e-20 7.24768768e-13]\n",
      " [2.34768863e-03 5.61473622e-07 3.95689327e-07 2.24321297e-02\n",
      "  5.52485125e-06 7.82522051e-05 2.40599563e-07 4.75530554e-05\n",
      "  9.72145094e-08 9.75087557e-01]]\n",
      "[[1.]\n",
      " [1.]\n",
      " [1.]]\n"
     ]
    }
   ],
   "source": [
    "class layer:\n",
    "    def __init__(self, no_of_inputs , no_of_neurons):\n",
    "        self.weights = np.random.randn(no_of_inputs , no_of_neurons)\n",
    "        self.biases = np.zeros((1,no_of_neurons))\n",
    "    def forward(self, inputs):\n",
    "        out = np.dot(inputs, self.weights)\n",
    "        self.outp = out +self.biases\n",
    "class ReLU :\n",
    "    def forward(self, inputs):\n",
    "        self.out = np.maximum(0, inputs)\n",
    "class Softmax:\n",
    "    def forward(self, inputs):\n",
    "        ex_batch = np.exp(inputs -  np.max(inputs , axis = 1 , keepdims = True))\n",
    "        prob= ex_batch/np.sum(ex_batch , axis=1, keepdims = True)\n",
    "        self.out = prob\n",
    "layer1 = layer(np.shape(inp_batch[1])[0], 4 )\n",
    "layer1.forward(inp_batch)\n",
    "relu = ReLU()\n",
    "relu.forward(layer1.outp)\n",
    "print(relu.out)\n",
    "layer2 = layer(4,10)\n",
    "layer2.forward(relu.out)\n",
    "smax = Softmax()\n",
    "smax.forward(layer2.outp)\n",
    "print(smax.out)\n",
    "print(np.sum(smax.out , axis = 1, keepdims =True))\n",
    "    \n",
    "            \n",
    "        \n",
    "        \n",
    "        "
   ]
  },
  {
   "cell_type": "code",
   "execution_count": null,
   "metadata": {},
   "outputs": [],
   "source": []
  }
 ],
 "metadata": {
  "kernelspec": {
   "display_name": "Python 3",
   "language": "python",
   "name": "python3"
  },
  "language_info": {
   "codemirror_mode": {
    "name": "ipython",
    "version": 3
   },
   "file_extension": ".py",
   "mimetype": "text/x-python",
   "name": "python",
   "nbconvert_exporter": "python",
   "pygments_lexer": "ipython3",
   "version": "3.8.5"
  }
 },
 "nbformat": 4,
 "nbformat_minor": 4
}
